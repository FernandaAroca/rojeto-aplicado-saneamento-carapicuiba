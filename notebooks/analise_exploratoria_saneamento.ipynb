# ==============================================================================
# PROJETO APLICADO I - ANÁLISE EXPLORATÓRIA DO SANEAMENTO EM CARAPICUÍBA (SP)
# ==============================================================================

# 1. IMPORTAÇÃO DOS PACOTES E DADOS
import pandas as pd
import matplotlib.pyplot as plt
import seaborn as sns
import numpy as np 

# Configuração de visualização
sns.set_style("whitegrid")
pd.set_option('display.max_columns', None)

# Nome do seu arquivo (confirmado na última execução)
caminho_arquivo = 'br_mdr_snis_municipio_agua_esgoto.csv' 
try:
    # Leitura do CSV
    df = pd.read_csv(caminho_arquivo, encoding='utf-8') 
    print("Sucesso: Arquivo CSV carregado corretamente.")
except Exception as e:
    print(f"ERRO CRÍTICO AO LER ARQUIVO: {e}")
    df = pd.DataFrame() 
    # Interrompe o script se a leitura falhar
    raise SystemExit(0) 


# Códigos IBGE para filtro (Carapicuíba e RMSP)
IBGE_CARAPICUIBA = 3510506
codigos_rmsp = [
    3550308, 3505701, 3515007, 3510506, 3552502, 3543301, 3556008, 3549903,
    3547807, 3513804, 3530605, 3514802, 3522206, 3538008, 3541008, 3545801,
    3503102, 3548706, 3552901, 3553206, 3544101, 3539105, 3534409, 3537208, 3539808
]

# 2. SELEÇÃO DE VARIÁVEIS E TRATAMENTO INICIAL
df_analise = df[[
    'ano',
    'id_municipio',
    'populacao_urbana',
    'indice_atendimento_urbano_agua',
    'indice_coleta_esgoto'
]].copy()

# Renomear para clareza e padronização
df_analise.rename(columns={
    'ano': 'Ano',
    'id_municipio': 'IBGE',
    'populacao_urbana': 'POP_URBANA',
    'indice_atendimento_urbano_agua': 'IN055_AGUA',
    'indice_coleta_esgoto': 'IN015_ESGOTO'
}, inplace=True)


# --- CORREÇÃO CHAVE DE TIPAGEM PARA O FILTRO ---
# 1. Converter ID do IBGE para Inteiro (Int64)
# 'Int64' é usado para garantir que ele possa lidar com valores ausentes de forma correta
df_analise['IBGE'] = pd.to_numeric(df_analise['IBGE'], errors='coerce').astype('Int64', errors='ignore')

# 2. Converter colunas de indicadores para numérico (float)
colunas_num = ['POP_URBANA', 'IN055_AGUA', 'IN015_ESGOTO']
for col in colunas_num:
    df_analise[col] = pd.to_numeric(df_analise[col], errors='coerce')
# ----------------------------------------------------


# 3. FILTRAGEM GEOGRÁFICA: RMSP e Carapicuíba
df_rmsp = df_analise[df_analise['IBGE'].isin(codigos_rmsp)].copy()
# O filtro agora funciona corretamente devido à conversão de tipo acima
df_carapicuiba = df_rmsp[df_rmsp['IBGE'] == IBGE_CARAPICUIBA].copy()


# 4. ANÁLISE ESTATÍSTICA E TRATAMENTO DE VALORES AUSENTES (NAs)

print("\n--- PASSO 4: Estatísticas Descritivas da RMSP ---")
df_rmsp_desc = df_rmsp[['IN055_AGUA', 'IN015_ESGOTO']].describe().round(2)
print("Estatísticas da RMSP:\n", df_rmsp_desc)

na_count = df_rmsp[['IN055_AGUA', 'IN015_ESGOTO', 'POP_URBANA']].isna().sum()
print("\nValores Ausentes na RMSP (Qtd):\n", na_count)


# Remove NAs nos indicadores para as médias e visualizações comparativas
df_rmsp.dropna(subset=['IN055_AGUA', 'IN015_ESGOTO'], inplace=True)
print(f"\nVerificação Final: Registros de Carapicuíba para plotagem: {len(df_carapicuiba)}")


# 5. VISUALIZAÇÃO DOS RESULTADOS

# FIGURA 2: ANÁLISE TEMPORAL (Carapicuíba)
if len(df_carapicuiba) > 0:
    plt.figure(figsize=(12, 6))
    sns.lineplot(data=df_carapicuiba, x='Ano', y='IN055_AGUA', label='% Água (IN055)', marker='o', linewidth=2)
    sns.lineplot(data=df_carapicuiba, x='Ano', y='IN015_ESGOTO', label='% Esgoto (IN015)', marker='s', linewidth=2)

    plt.title('Figura 2: Evolução Histórica de Saneamento em Carapicuíba (2000-2023)')
    plt.xlabel('Ano')
    plt.ylabel('Percentual de Cobertura (%)')
    plt.grid(axis='y')
    plt.legend(title='Indicador')
    
    # Salva a imagem para o relatório
    plt.savefig('Figura_2_Evolucao_Carapicuiba.png') 
    plt.show() 
else:
    print("AVISO: Não há dados suficientes para plotar a Figura 2 de Carapicuíba.")


# FIGURA 1: ANÁLISE DE DISPERSÃO (Boxplot Comparativo)
if len(df_rmsp) > 0:
    plt.figure(figsize=(8, 6))

    # Cria a coluna de rótulo 'Região' para o boxplot
    df_rmsp['Região'] = 'RMSP' 
    
    # Boxplot
    sns.boxplot(y='IN015_ESGOTO', x='Região', data=df_rmsp)

    # Adicionar a posição média de Carapicuíba (somente se houver dados)
    if len(df_carapicuiba) > 0:
        media_carapicuiba = df_carapicuiba['IN015_ESGOTO'].mean()
        plt.scatter(x=0, y=media_carapicuiba, color='red', s=150, zorder=5, label='Média de Carapicuíba')
        
    plt.title('Figura 1: Distribuição da Cobertura de Esgoto (IN015) na RMSP')
    plt.ylabel('Percentual de Cobertura de Esgoto (%)')
    plt.xlabel('Região de Análise')
    plt.xticks([])
    plt.legend()
    
    # Salva a imagem para o relatório
    plt.savefig('Figura_1_Boxplot_RMSP.png')
    plt.show()

print("\n--- FIM DA ANÁLISE. Verifique as imagens PNG salvas na sua pasta. ---")
